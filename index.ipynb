{
  "cells": [
    {
      "cell_type": "markdown",
      "metadata": {},
      "source": [
        "# Quantifying implicit associations among words using word embeddings\n",
        "\n",
        "Chung-hong Chan (GESIS)\n",
        "\n",
        "## Empowerment statement\n",
        "\n",
        "In this Methods Hub entry, I am going to show you how to test for\n",
        "implicit associations using word embeddings trained on a large language\n",
        "corpus.\n",
        "\n",
        "## Required R packages\n",
        "\n",
        "The following R packages are required:"
      ],
      "id": "ea5fcaa0-76ae-40e2-bc3a-4d8242ea3e70"
    },
    {
      "cell_type": "code",
      "execution_count": null,
      "metadata": {},
      "outputs": [],
      "source": [
        "require(quanteda)\n",
        "require(lsa)\n",
        "require(rsparse)\n",
        "require(sweater)"
      ],
      "id": "02a06a4f-544d-4817-bae3-c6a69d8b1ed1"
    },
    {
      "cell_type": "markdown",
      "metadata": {},
      "source": [
        "## Cosine distance\n",
        "\n",
        "Suppose we have the following corpus of 10 documents:\n",
        "\n",
        "**Doc 1**: berlin is the capital of germany\n",
        "\n",
        "**Doc 2**: paris is the capital of france\n",
        "\n",
        "**Doc 3**: tokyo is the capital of japan\n",
        "\n",
        "**Doc 4**: the cat is weird\n",
        "\n",
        "**Doc 5**: berlin\n",
        "\n",
        "**Doc 6**: paris is nice\n",
        "\n",
        "**Doc 7**: paris is nice\n",
        "\n",
        "**Doc 8**: paris is nice\n",
        "\n",
        "**Doc 9**: paris is nice\n",
        "\n",
        "**Doc 10**: berlin is weird\n",
        "\n",
        "The unique token types are: “berlin”, “is”, “the”, “capital”, “of”,\n",
        "“germany”, “paris”, “france”, “tokyo”, “japan”, “cat”, “weird”, “nice”.\n",
        "The representation of the above corpus as a document-term matrix is:\n",
        "\n",
        "|     | berlin | is  | the | capital | of  | germany | paris | france | tokyo | japan | cat | weird | nice |\n",
        "|----|-------|----|-----|-------|----|-------|------|-------|------|------|-----|------|-----|\n",
        "| 1   | 1      | 1   | 1   | 1       | 1   | 1       | 0     | 0      | 0     | 0     | 0   | 0     | 0    |\n",
        "| 2   | 0      | 1   | 1   | 1       | 1   | 0       | 1     | 1      | 0     | 0     | 0   | 0     | 0    |\n",
        "| 3   | 0      | 1   | 1   | 1       | 1   | 0       | 0     | 0      | 1     | 1     | 0   | 0     | 0    |\n",
        "| 4   | 0      | 1   | 1   | 0       | 0   | 0       | 0     | 0      | 0     | 0     | 1   | 1     | 0    |\n",
        "| 5   | 1      | 0   | 0   | 0       | 0   | 0       | 0     | 0      | 0     | 0     | 0   | 0     | 0    |\n",
        "| 6   | 0      | 1   | 0   | 0       | 0   | 0       | 1     | 0      | 0     | 0     | 0   | 0     | 1    |\n",
        "| 7   | 0      | 1   | 0   | 0       | 0   | 0       | 1     | 0      | 0     | 0     | 0   | 0     | 1    |\n",
        "| 8   | 0      | 1   | 0   | 0       | 0   | 0       | 1     | 0      | 0     | 0     | 0   | 0     | 1    |\n",
        "| 9   | 0      | 1   | 0   | 0       | 0   | 0       | 1     | 0      | 0     | 0     | 0   | 0     | 1    |\n",
        "| 10  | 1      | 1   | 0   | 0       | 0   | 0       | 0     | 0      | 0     | 0     | 0   | 1     | 0    |\n",
        "\n",
        "The row vector is the vector representation of the document. One way to\n",
        "compare the similarity between two **documents** is to calculate the\n",
        "cosine similarity. Cosine similarity between two vectors ($\\mathbf{A}$,\n",
        "$\\mathbf{B}$) is defined as:\n",
        "\n",
        "$$\n",
        "\\cos(\\theta) = {\\mathbf{A} \\cdot \\mathbf{B} \\over \\|\\mathbf{A}\\| \\|\\mathbf{B}\\|}\n",
        "$$\n",
        "\n",
        "For example, the cosine similarity between *Doc 1*\n",
        "`[1,1,1,1,1,1,0,0,0,0,0,0,0]` and *Doc 2* `[0,1,1,1,1,0,1,1,0,0,0,0,0]`\n",
        "is:\n",
        "\n",
        "$$\n",
        "\\begin{aligned}\n",
        "\\mathbf{A} \\cdot \\mathbf{B} &= 1 \\times 0 + 1 \\times 1 + 1 \\times 1 +1 \\times 1 +1 \\times 1 + 1 \\times 0 + 0 \\times 1 + 0 \\times 1 + 0 \\times 0 + 0 \\times 0 + 0 \\times 0 + 0 \\times 0 + 0 \\times 0 \\\\\n",
        "&= 4\\\\\n",
        "\\|\\mathbf{A}\\| &= \\sqrt{1^2 + 1^2 + 1^2 + 1^2 + 1^2 + 1^2 + 0^2 + 0^2 + 0^2 + 0^2 + 0^2 + 0^2 + 0^2} \\\\\n",
        "&= \\sqrt{6}\\\\\n",
        "\\|\\mathbf{B}\\| &= \\sqrt{0^2 + 1^2 + 1^2 + 1^2 + 1^2 + 0^2 + 1^2 + 1^2 + 0^2 + 0^2 + 0^2 + 0^2 + 0^2} \\\\\n",
        "&= \\sqrt{6}\\\\\n",
        "\\cos(\\theta) &= { 4 \\over \\sqrt{6} \\times \\sqrt{6}}\\\\\n",
        "&= 0.\\overline{6}\n",
        "\\end{aligned}\n",
        "$$\n",
        "\n",
        "In R, `lsa` (Wild, 2022) can be used to calculate cosine similarity."
      ],
      "id": "54ac4e27-1b28-4246-9a77-c2d60a941af1"
    },
    {
      "cell_type": "code",
      "execution_count": null,
      "metadata": {},
      "outputs": [
        {
          "output_type": "stream",
          "name": "stdout",
          "text": [
            "          [,1]\n",
            "[1,] 0.6666667"
          ]
        }
      ],
      "source": [
        "library(lsa)\n",
        "doc1 <- c(1,1,1,1,1,1,0,0,0,0,0,0,0)\n",
        "doc2 <- c(0,1,1,1,1,0,1,1,0,0,0,0,0)\n",
        "cosine(doc1, doc2)"
      ],
      "id": "1a5d1649-012d-4068-84ff-d04fc54b675a"
    },
    {
      "cell_type": "markdown",
      "metadata": {},
      "source": [
        "Or using `quanteda` (Benoit et al., 2018)"
      ],
      "id": "95c5912e-402c-4440-874c-2215e3bf690a"
    },
    {
      "cell_type": "code",
      "execution_count": null,
      "metadata": {},
      "outputs": [
        {
          "output_type": "stream",
          "name": "stdout",
          "text": [
            "Document-feature matrix of: 10 documents, 13 features (70.77% sparse) and 0 docvars.\n",
            "       features\n",
            "docs    berlin is the capital of germany paris france tokyo japan\n",
            "  text1      1  1   1       1  1       1     0      0     0     0\n",
            "  text2      0  1   1       1  1       0     1      1     0     0\n",
            "  text3      0  1   1       1  1       0     0      0     1     1\n",
            "  text4      0  1   1       0  0       0     0      0     0     0\n",
            "  text5      1  0   0       0  0       0     0      0     0     0\n",
            "  text6      0  1   0       0  0       0     1      0     0     0\n",
            "[ reached max_ndoc ... 4 more documents, reached max_nfeat ... 3 more features ]"
          ]
        }
      ],
      "source": [
        "library(quanteda)\n",
        "docs <- c(\"berlin is the capital of germany\",\n",
        "          \"paris is the capital of france\",\n",
        "          \"tokyo is the capital of japan\",\n",
        "          \"the cat is weird\",\n",
        "          \"berlin\",\n",
        "          \"paris is nice\",\n",
        "          \"paris is nice\",\n",
        "          \"paris is nice\",\n",
        "          \"paris is nice\",\n",
        "          \"berlin is weird\")\n",
        "docs_dtm <- corpus(docs) %>% tokens %>% dfm()\n",
        "docs_dtm"
      ],
      "id": "cfdc240b-06a3-4b10-aac1-7cd8e1ceba18"
    },
    {
      "cell_type": "code",
      "execution_count": null,
      "metadata": {},
      "outputs": [
        {
          "output_type": "stream",
          "name": "stdout",
          "text": [
            "          [,1]\n",
            "[1,] 0.6666667"
          ]
        }
      ],
      "source": [
        "cosine(as.vector(docs_dtm[1,]), as.vector(docs_dtm[2,]))"
      ],
      "id": "38bba786-32f2-46eb-8b46-838b6e2e12b1"
    },
    {
      "cell_type": "markdown",
      "metadata": {},
      "source": [
        "The cosine similarity between *Doc 1* and *Doc 6* is much lower, as\n",
        "there is just one common word *“is”*."
      ],
      "id": "c72a6702-e907-47d9-b106-72ebd99e3f14"
    },
    {
      "cell_type": "code",
      "execution_count": null,
      "metadata": {},
      "outputs": [
        {
          "output_type": "stream",
          "name": "stdout",
          "text": [
            "          [,1]\n",
            "[1,] 0.2357023"
          ]
        }
      ],
      "source": [
        "doc6 <- c(0,1,0,0,0,0,1,0,0,0,0,0,1)\n",
        "##or\n",
        "##cosine(as.vector(docs_dtm[1,]), as.vector(docs_dtm[6,]))\n",
        "cosine(doc1, doc6)"
      ],
      "id": "0f3ef515-ea3e-4aec-a0c2-27ab796c5a94"
    },
    {
      "cell_type": "markdown",
      "metadata": {},
      "source": [
        "## One-hot vectors\n",
        "\n",
        "In the traditional “bag of words” text representation, a word is\n",
        "presented as a so-called “one-hot” vector. In the above example, the\n",
        "fifth document has just one word of “berlin”. This document is\n",
        "represented as row vector `[1,0,0,0,0,0,0,0,0,0,0,0,0]` in the\n",
        "document-term matrix. This vector is sparse (many zeros). One can also\n",
        "reason it as the “one-hot” vector representation of the word “berlin”,\n",
        "because there is exactly one instance of “1” in the entire vector.\n",
        "One-hot vector representation of word is not very useful for comparison\n",
        "between **words**. For example, cosine similarity of “one-hot” vectors\n",
        "of two different words is always 0."
      ],
      "id": "cede777b-6365-4766-bbc2-57fb8dbcd4d0"
    },
    {
      "cell_type": "code",
      "execution_count": null,
      "metadata": {},
      "outputs": [
        {
          "output_type": "stream",
          "name": "stdout",
          "text": [
            "     [,1]\n",
            "[1,]    0"
          ]
        },
        {
          "output_type": "stream",
          "name": "stdout",
          "text": [
            "     [,1]\n",
            "[1,]    0"
          ]
        },
        {
          "output_type": "stream",
          "name": "stdout",
          "text": [
            "     [,1]\n",
            "[1,]    0"
          ]
        },
        {
          "output_type": "stream",
          "name": "stdout",
          "text": [
            "     [,1]\n",
            "[1,]    0"
          ]
        }
      ],
      "source": [
        "## comparing \"berlin\" and \"paris\"\n",
        "cosine(c(1, 0, 0, 0, 0, 0, 0, 0, 0, 0, 0, 0, 0),\n",
        "       c(0, 0, 0, 0, 0, 0, 1, 0, 0, 0, 0, 0, 0))"
      ],
      "id": "6c2e273a-3061-4fe3-84b7-44c278725404"
    },
    {
      "cell_type": "markdown",
      "metadata": {},
      "source": [
        "However, we should anticipate that “berlin” and “paris” should be more\n",
        "similar in latent meaning (at least both of them are described in the\n",
        "context of “capital”) than “berlin” and “cat”.\n",
        "\n",
        "## (Dense) word vectors\n",
        "\n",
        "An improvement to this is to make them “dense” word vectors. One way is\n",
        "to train word embeddings on the corpus in order to generate dense word\n",
        "vectors. Word embeddings can capture the **distributional semantics** of\n",
        "words: words that are used and occur in the same contexts tend to\n",
        "purport similar meanings.\n",
        "\n",
        "In the following example, the GLoVe embeddings are trained (Pennington\n",
        "et al., 2014). The GLoVe algorithm is based on the weighted\n",
        "feature-cooccurrence matrix (FCM) representation of the corpus, which\n",
        "can be generated by quanteda (Benoit et al., 2018).\n",
        "\n",
        "There are three parameters needed to be specified: `WINDOWS_SIZE`,\n",
        "`RANK`, `LEARNING_RATE`. `WINDOW_SIZE` determines how close two words\n",
        "are is being considered as related. `RANK` determines the output length\n",
        "of the word vector. `LEARNING_RATE` determines the learning rate of the\n",
        "algorithm.\n",
        "\n",
        "The FCM is a square matrix with each cell represents how likely two\n",
        "words are cooccured."
      ],
      "id": "b3987c25-c7d3-42d2-b9b6-b7694f76ee92"
    },
    {
      "cell_type": "code",
      "execution_count": null,
      "metadata": {},
      "outputs": [
        {
          "output_type": "stream",
          "name": "stdout",
          "text": [
            "Feature co-occurrence matrix of: 13 by 13 features.\n",
            "         features\n",
            "features  berlin is the   capital  of   germany     paris    france     tokyo\n",
            "  berlin       0  2 0.5 0.3333333 0   0         0         0         0        \n",
            "  is           0  0 3.5 1.5000000 1.0 0         5.0000000 0         1.0000000\n",
            "  the          0  0 0   3.0000000 1.5 0.3333333 0.5000000 0.3333333 0.5000000\n",
            "  capital      0  0 0   0         3.0 0.5000000 0.3333333 0.5000000 0.3333333\n",
            "  of           0  0 0   0         0   1.0000000 0         1.0000000 0        \n",
            "  germany      0  0 0   0         0   0         0         0         0        \n",
            "  paris        0  0 0   0         0   0         0         0         0        \n",
            "  france       0  0 0   0         0   0         0         0         0        \n",
            "  tokyo        0  0 0   0         0   0         0         0         0        \n",
            "  japan        0  0 0   0         0   0         0         0         0        \n",
            "         features\n",
            "features      japan\n",
            "  berlin  0        \n",
            "  is      0        \n",
            "  the     0.3333333\n",
            "  capital 0.5000000\n",
            "  of      1.0000000\n",
            "  germany 0        \n",
            "  paris   0        \n",
            "  france  0        \n",
            "  tokyo   0        \n",
            "  japan   0        \n",
            "[ reached max_feat ... 3 more features, reached max_nfeat ... 3 more features ]"
          ]
        }
      ],
      "source": [
        "WINDOW_SIZE <- 3\n",
        "\n",
        "weighted_fcm_corpus <- corpus(docs) %>% tokens() %>%\n",
        "    fcm(window = WINDOW_SIZE, weights = 1 / seq_len(WINDOW_SIZE),\n",
        "        count = \"weighted\", context = \"window\", tri = TRUE)\n",
        "weighted_fcm_corpus"
      ],
      "id": "1957e6cf-5fcb-41cd-a3da-27184de87df6"
    },
    {
      "cell_type": "code",
      "execution_count": null,
      "metadata": {},
      "outputs": [],
      "source": [
        "library(rsparse)\n",
        "\n",
        "RANK <- 5\n",
        "LEARNING_RATE <- 0.05\n",
        "\n",
        "glove <- GloVe$new(rank = RANK, x_max = RANK / 2, learning_rate = LEARNING_RATE)\n",
        "\n",
        "wv_main <- glove$fit_transform(weighted_fcm_corpus, n_iter = 100,\n",
        "                               convergence_tol = 0.01, n_threads = 8)\n",
        "\n",
        "wv_context <- glove$components\n",
        "dense_vectors <- wv_main + t(wv_context)"
      ],
      "id": "e0f4d72e-a78f-4d52-a4e9-81aa73f689f6"
    },
    {
      "cell_type": "markdown",
      "metadata": {},
      "source": [
        "The (dense) word vectors are, as the name suggested, dense. The\n",
        "dimension is equal to `RANK`. We can also think about the following\n",
        "matrix as a multidimensional *word embedding space*."
      ],
      "id": "6e3364da-a511-4c5c-a129-91ad8e15fa74"
    },
    {
      "cell_type": "code",
      "execution_count": null,
      "metadata": {},
      "outputs": [
        {
          "output_type": "stream",
          "name": "stdout",
          "text": [
            "               [,1]        [,2]        [,3]       [,4]        [,5]\n",
            "berlin   0.78093497  0.21943000 -0.06184041  0.4826452  0.18116239\n",
            "is       1.06797239  1.04223992 -1.07510086 -0.1710641  0.80377360\n",
            "the     -0.81053815  0.28407879 -1.18254362 -0.7054432 -0.14764230\n",
            "capital -1.63767566  0.22032560 -1.01020617 -0.3420165 -0.57757420\n",
            "of      -1.14865915 -0.32806516 -0.10464064  0.2914658 -0.09522144\n",
            "germany  0.08748539  0.06579131  0.59776893  0.4546143  0.52612567\n",
            "paris    1.57121831  0.60983331 -0.71209092  0.2564970  0.50354111\n",
            "france   0.13385241  0.02386792  0.99771523  0.2197001  0.35186703\n",
            "tokyo    0.30444173 -0.81186621  0.98766495  0.3769669  0.73225823\n",
            "japan   -0.15810711 -0.01458546  0.89092855  0.3838428  0.02830720\n",
            "cat      0.13005214 -0.21182661 -0.23096003  0.5567883 -0.25188778\n",
            "weird    0.47085392  0.26200320  0.04344626 -0.2601290  0.24816990\n",
            "nice     0.80941005  0.49620816  0.18861825 -0.2391569  0.60577248"
          ]
        }
      ],
      "source": [
        "dense_vectors"
      ],
      "id": "b1299a7d-3bf9-4eae-a50b-ec3a65ae1225"
    },
    {
      "cell_type": "markdown",
      "metadata": {},
      "source": [
        "And the row vectors can be compared using cosine similarity. Now, we can\n",
        "see that the similarity between “berlin” and “paris” is higher than\n",
        "“berlin” and “cat”."
      ],
      "id": "4892269e-9c44-4d8f-953e-c33bf33f2334"
    },
    {
      "cell_type": "code",
      "execution_count": null,
      "metadata": {},
      "outputs": [
        {
          "output_type": "stream",
          "name": "stdout",
          "text": [
            "          [,1]\n",
            "[1,] 0.8783095"
          ]
        },
        {
          "output_type": "stream",
          "name": "stdout",
          "text": [
            "         [,1]\n",
            "[1,] 0.434429"
          ]
        }
      ],
      "source": [
        "cosine(dense_vectors[\"berlin\",], dense_vectors[\"paris\",])"
      ],
      "id": "c887cb68-2bb1-46b3-8b49-1bfe50351f87"
    },
    {
      "cell_type": "markdown",
      "metadata": {},
      "source": [
        "## Target words and attribute words\n",
        "\n",
        "Suppose “paris”, “tokyo”, and “berlin” are the words we are interested\n",
        "in. We can called these words *target words*. We can determine how these\n",
        "words are similar to some other words in the word embeddings space.\n",
        "Suppose we set “nice” to be the attribute word. By determining the\n",
        "similarities between the target words and attribute words, we can see\n",
        "the implicit association between words. In this example, we can see that\n",
        "“paris” is highly associated with “nice”; but not “tokyo” and “berlin”."
      ],
      "id": "b7d54eb8-2620-415c-9ebb-98bb30773f6e"
    },
    {
      "cell_type": "code",
      "execution_count": null,
      "metadata": {},
      "outputs": [
        {
          "output_type": "stream",
          "name": "stdout",
          "text": [
            "          [,1]\n",
            "[1,] 0.7536537"
          ]
        },
        {
          "output_type": "stream",
          "name": "stdout",
          "text": [
            "          [,1]\n",
            "[1,] 0.2118179"
          ]
        },
        {
          "output_type": "stream",
          "name": "stdout",
          "text": [
            "          [,1]\n",
            "[1,] 0.6440085"
          ]
        }
      ],
      "source": [
        "cosine(dense_vectors[\"paris\",], dense_vectors[\"nice\",])"
      ],
      "id": "2932df96-a59e-4073-9fe5-14d0f3c53c35"
    },
    {
      "cell_type": "markdown",
      "metadata": {},
      "source": [
        "## Pretrained word embeddings\n",
        "\n",
        "We can train our own word embeddings. But there are also several\n",
        "pretrained word embeddings trained on large corpora available for\n",
        "download.\n",
        "\n",
        "-   [word2vec](https://huggingface.co/fse/word2vec-google-news-300)\n",
        "    trained on Google News\n",
        "-   [GLoVe](https://nlp.stanford.edu/projects/glove/) trained on\n",
        "    Wikipedia, Common Crawl, and Gigaword\n",
        "-   [fastText](https://fasttext.cc/docs/en/crawl-vectors.html) trained\n",
        "    on Wikipedia and Common Crawl\n",
        "\n",
        "In the following example, we will use the pretrained GLoVe word\n",
        "embeddings to replicate the findings by Caliskan et al. (2017) and\n",
        "pretrained word2vec word embeddings to replicate the findings from Garg\n",
        "et al. (2018). The R package `sweater` (Chan, 2022) can be used to read\n",
        "the downloaded word embedding file.\n",
        "\n",
        "``` r\n",
        "library(sweater)\n",
        "glove <- read_word2vec(\"glove.840B.300d.txt\")\n",
        "```\n",
        "\n",
        "The package also provides a subset of the word embeddings called\n",
        "`glove_math`.\n",
        "\n",
        "## Query\n",
        "\n",
        "`sweater` use the concept of query to look for associations.\n",
        "\n",
        "A query requires two sets of words: Target words ($\\mathcal{S}$,\n",
        "$\\mathcal{T}$) and Attribute words ($\\mathcal{A}$, $\\mathcal{B}$). The\n",
        "package provides different methods and they require different\n",
        "combinations of $\\mathcal{S}$, $\\mathcal{T}$, $\\mathcal{A}$, and\n",
        "$\\mathcal{B}$.\n",
        "\n",
        "| Method                           | Target words                 | Attribute words              |\n",
        "|--------------------------|-----------------------|-----------------------|\n",
        "| Mean Average Cosine Similarity   | $\\mathcal{S}$                | $\\mathcal{A}$                |\n",
        "| Relative Norm Distance           | $\\mathcal{S}$                | $\\mathcal{A}$, $\\mathcal{B}$ |\n",
        "| Relative Negative Sentiment Bias | $\\mathcal{S}$                | $\\mathcal{A}$, $\\mathcal{B}$ |\n",
        "| SemAxis                          | $\\mathcal{S}$                | $\\mathcal{A}$, $\\mathcal{B}$ |\n",
        "| Normalized Association Score     | $\\mathcal{S}$                | $\\mathcal{A}$, $\\mathcal{B}$ |\n",
        "| Embedding Coherence Test         | $\\mathcal{S}$                | $\\mathcal{A}$, $\\mathcal{B}$ |\n",
        "| Word Embedding Association Test  | $\\mathcal{S}$, $\\mathcal{T}$ | $\\mathcal{A}$, $\\mathcal{B}$ |\n",
        "\n",
        "All methods use the same `query` function.\n",
        "\n",
        "``` r\n",
        "query(w, S_words, T_words, A_words, B_words, method = \"guess\", verbose = FALSE)\n",
        "```\n",
        "\n",
        "## Case study: Gender biases in word embeddings\n",
        "\n",
        "### Word Embedding Association Test\n",
        "\n",
        "Word Embedding Association Test (WEAT) (Caliskan et al., 2017) requires\n",
        "all four wordsets of $\\mathcal{S}$, $\\mathcal{T}$, $\\mathcal{A}$, and\n",
        "$\\mathcal{B}$. The method is modeled after the Implicit Association Test\n",
        "(IAT) and it measures the relative strength of $\\mathcal{S}$’s\n",
        "association with $\\mathcal{A}$ to $\\mathcal{B}$ against the same of\n",
        "$\\mathcal{T}$."
      ],
      "id": "3aced876-2fec-46dd-8630-6c4c05ed7294"
    },
    {
      "cell_type": "code",
      "execution_count": null,
      "metadata": {},
      "outputs": [
        {
          "output_type": "stream",
          "name": "stderr",
          "text": []
        },
        {
          "output_type": "stream",
          "name": "stderr",
          "text": [
            "── sweater object ──────────────────────────────────────────────────────────────"
          ]
        },
        {
          "output_type": "stream",
          "name": "stdout",
          "text": [
            "Test type:  weat \n",
            "Effect size:  1.055015 "
          ]
        },
        {
          "output_type": "stream",
          "name": "stderr",
          "text": []
        },
        {
          "output_type": "stream",
          "name": "stderr",
          "text": [
            "── Functions ───────────────────────────────────────────────────────────────────"
          ]
        },
        {
          "output_type": "stream",
          "name": "stderr",
          "text": [
            "• `calculate_es()`: Calculate effect size"
          ]
        },
        {
          "output_type": "stream",
          "name": "stderr",
          "text": [
            "• `weat_resampling()`: Conduct statistical test"
          ]
        }
      ],
      "source": [
        "require(sweater)\n",
        "S <- c(\"math\", \"algebra\", \"geometry\", \"calculus\", \"equations\", \"computation\",\n",
        "       \"numbers\", \"addition\")\n",
        "T <- c(\"poetry\", \"art\", \"dance\", \"literature\", \"novel\", \"symphony\", \"drama\",\n",
        "       \"sculpture\")\n",
        "A <- c(\"male\", \"man\", \"boy\", \"brother\", \"he\", \"him\", \"his\", \"son\")\n",
        "B <- c(\"female\", \"woman\", \"girl\", \"sister\", \"she\", \"her\", \"hers\", \"daughter\")\n",
        "sw <- query(glove_math, S, T, A, B)\n",
        "sw"
      ],
      "id": "203fcd2d-2c13-4f56-8f3e-72b4aab9b2ff"
    },
    {
      "cell_type": "markdown",
      "metadata": {},
      "source": [
        "The effect size can be interpreted the same way as Cohen’s d. In this\n",
        "case, the effect size is positive, indicating the math-related concepts\n",
        "are more associated with male than female, whereas art-related concepts\n",
        "are more associated with female than male.\n",
        "\n",
        "### Relative Norm Distance\n",
        "\n",
        "Garg et al. (2018) use Relative Norm Distance to quantify gender biases\n",
        "of occupation words in the pretrained Google News Word Embeddings. The\n",
        "method requires one set of target words and two sets of attribute words."
      ],
      "id": "8f2a2783-f9cf-4102-b463-848597725fd5"
    },
    {
      "cell_type": "code",
      "execution_count": null,
      "metadata": {},
      "outputs": [
        {
          "output_type": "stream",
          "name": "stderr",
          "text": []
        },
        {
          "output_type": "stream",
          "name": "stderr",
          "text": [
            "── sweater object ──────────────────────────────────────────────────────────────"
          ]
        },
        {
          "output_type": "stream",
          "name": "stdout",
          "text": [
            "Test type:  rnd \n",
            "Effect size:  -6.341598 "
          ]
        },
        {
          "output_type": "stream",
          "name": "stderr",
          "text": []
        },
        {
          "output_type": "stream",
          "name": "stderr",
          "text": [
            "── Functions ───────────────────────────────────────────────────────────────────"
          ]
        },
        {
          "output_type": "stream",
          "name": "stderr",
          "text": [
            "• `calculate_es()`: Calculate effect size"
          ]
        },
        {
          "output_type": "stream",
          "name": "stderr",
          "text": [
            "• `plot()`: Plot the bias of each individual word"
          ]
        }
      ],
      "source": [
        "S1 <- c(\"janitor\", \"statistician\", \"midwife\", \"bailiff\", \"auctioneer\", \n",
        "\"photographer\", \"geologist\", \"shoemaker\", \"athlete\", \"cashier\", \n",
        "\"dancer\", \"housekeeper\", \"accountant\", \"physicist\", \"gardener\", \n",
        "\"dentist\", \"weaver\", \"blacksmith\", \"psychologist\", \"supervisor\", \n",
        "\"mathematician\", \"surveyor\", \"tailor\", \"designer\", \"economist\", \n",
        "\"mechanic\", \"laborer\", \"postmaster\", \"broker\", \"chemist\", \"librarian\", \n",
        "\"attendant\", \"clerical\", \"musician\", \"porter\", \"scientist\", \"carpenter\", \n",
        "\"sailor\", \"instructor\", \"sheriff\", \"pilot\", \"inspector\", \"mason\", \n",
        "\"baker\", \"administrator\", \"architect\", \"collector\", \"operator\", \n",
        "\"surgeon\", \"driver\", \"painter\", \"conductor\", \"nurse\", \"cook\", \n",
        "\"engineer\", \"retired\", \"sales\", \"lawyer\", \"clergy\", \"physician\", \n",
        "\"farmer\", \"clerk\", \"manager\", \"guard\", \"artist\", \"smith\", \"official\", \n",
        "\"police\", \"doctor\", \"professor\", \"student\", \"judge\", \"teacher\", \n",
        "\"author\", \"secretary\", \"soldier\")\n",
        "\n",
        "A1 <- c(\"he\", \"son\", \"his\", \"him\", \"father\", \"man\", \"boy\", \"himself\", \n",
        "\"male\", \"brother\", \"sons\", \"fathers\", \"men\", \"boys\", \"males\", \n",
        "\"brothers\", \"uncle\", \"uncles\", \"nephew\", \"nephews\")\n",
        "\n",
        "B1 <- c(\"she\", \"daughter\", \"hers\", \"her\", \"mother\", \"woman\", \"girl\", \n",
        "\"herself\", \"female\", \"sister\", \"daughters\", \"mothers\", \"women\", \n",
        "\"girls\", \"females\", \"sisters\", \"aunt\", \"aunts\", \"niece\", \"nieces\"\n",
        ")\n",
        "res <- query(googlenews, S_words = S1, A_words = A1, B_words = B1)\n",
        "res"
      ],
      "id": "5768c071-9915-40a6-9e87-bb9e427b5276"
    },
    {
      "cell_type": "markdown",
      "metadata": {},
      "source": [
        "The more positive effect size indicates that words in $\\mathcal{S}$ are\n",
        "more associated with $\\mathcal{B}$. As the effect size is negative, it\n",
        "indicates that the concept of occupation is more associated with\n",
        "$\\mathcal{B}$, i.e. male.\n",
        "\n",
        "We can also produce a visualization to study the differences among\n",
        "target words. Target words such as “nurse”, “midwife”, and “housekeeper”\n",
        "are more associated with female than male."
      ],
      "id": "429c339e-3caa-4ca7-a1c2-12dcc2eccae1"
    },
    {
      "cell_type": "code",
      "execution_count": null,
      "metadata": {},
      "outputs": [
        {
          "output_type": "display_data",
          "metadata": {},
          "data": {
            "image/png": "[encoded data removed]"
          }
        }
      ],
      "source": [
        "plot(res)"
      ],
      "id": "cf212af0-ac1c-4015-a163-dad4f8209449"
    },
    {
      "cell_type": "markdown",
      "metadata": {},
      "source": [
        "## Conclusion\n",
        "\n",
        "In this entry, I showed you how the quantification of implicit\n",
        "association among words works. The R package `sweater` was introduced\n",
        "for this task.\n",
        "\n",
        "## References\n",
        "\n",
        "Benoit, K., Watanabe, K., Wang, H., Nulty, P., Obeng, A., Müller, S., &\n",
        "Matsuo, A. (2018). Quanteda: An R package for the quantitative analysis\n",
        "of textual data. *Journal of Open Source Software*, *3*(30), 774.\n",
        "<https://doi.org/10.21105/joss.00774>\n",
        "\n",
        "Caliskan, A., Bryson, J. J., & Narayanan, A. (2017). Semantics derived\n",
        "automatically from language corpora contain human-like biases.\n",
        "*Science*, *356*(6334), 183–186.\n",
        "<https://doi.org/10.1126/science.aal4230>\n",
        "\n",
        "Chan, C. (2022). Sweater: Speedy word embedding association test and\n",
        "extras using R. *Journal of Open Source Software*, *7*(72), 4036.\n",
        "<https://doi.org/10.21105/joss.04036>\n",
        "\n",
        "Garg, N., Schiebinger, L., Jurafsky, D., & Zou, J. (2018). Word\n",
        "embeddings quantify 100 years of gender and ethnic stereotypes.\n",
        "*Proceedings of the National Academy of Sciences*, *115*(16),\n",
        "E3635–E3644. <https://doi.org/10.1073/pnas.1720347115>\n",
        "\n",
        "Pennington, J., Socher, R., & Manning, C. (2014). Glove: Global vectors\n",
        "for word representation. *Proceedings of the 2014 Conference on\n",
        "Empirical Methods in Natural Language Processing (EMNLP)*.\n",
        "<https://doi.org/10.3115/v1/d14-1162>\n",
        "\n",
        "Wild, F. (2022). *Lsa: Latent semantic analysis*.\n",
        "<https://CRAN.R-project.org/package=lsa>"
      ],
      "id": "4e5462ff-38db-4bdf-bb62-6ba311ff3d6b"
    }
  ],
  "nbformat": 4,
  "nbformat_minor": 5,
  "metadata": {
    "kernelspec": {
      "display_name": "Python 3",
      "language": "python",
      "name": "python3"
    }
  }
}